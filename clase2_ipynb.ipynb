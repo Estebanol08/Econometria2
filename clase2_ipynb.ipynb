{
  "nbformat": 4,
  "nbformat_minor": 0,
  "metadata": {
    "colab": {
      "provenance": [],
      "collapsed_sections": [
        "v4YspI_wJH5o",
        "J4Ox-9L4JWQ6",
        "gLaKou4iL3aw"
      ]
    },
    "kernelspec": {
      "name": "python3",
      "display_name": "Python 3"
    },
    "language_info": {
      "name": "python"
    }
  },
  "cells": [
    {
      "cell_type": "markdown",
      "source": [
        "Tuplas y diccionarios ( estrudcutas de datos)\n",
        "tuplas inmutables \n",
        "\n",
        "condicionales y bucles ( estructura de control)\n",
        "\n",
        "tupla=(0,4,9,11,3) -----> Es inmutable \n",
        "metodos= index(), count\n",
        "Diccionario= 2 componentes ---> coleccion de pares dew elementos ( llaves , valor)\n",
        "tupla ---- parentesis\n",
        "diccionario ---- llaves\n",
        "listas ----- "
      ],
      "metadata": {
        "id": "NnMPDrwhIDS2"
      }
    },
    {
      "cell_type": "markdown",
      "source": [
        "#TUPLAS"
      ],
      "metadata": {
        "id": "v4YspI_wJH5o"
      }
    },
    {
      "cell_type": "code",
      "source": [
        "tupla=(0,4,9,11,3)"
      ],
      "metadata": {
        "id": "Y4vh7DmHIZ-P"
      },
      "execution_count": 1,
      "outputs": []
    },
    {
      "cell_type": "code",
      "source": [
        "type(tupla)"
      ],
      "metadata": {
        "colab": {
          "base_uri": "https://localhost:8080/"
        },
        "id": "uW9a_hXoIkW8",
        "outputId": "a103a7a1-0bf3-4e6f-f083-d8ce21860a41"
      },
      "execution_count": 2,
      "outputs": [
        {
          "output_type": "execute_result",
          "data": {
            "text/plain": [
              "tuple"
            ]
          },
          "metadata": {},
          "execution_count": 2
        }
      ]
    },
    {
      "cell_type": "code",
      "source": [
        "tupla.index(4)"
      ],
      "metadata": {
        "colab": {
          "base_uri": "https://localhost:8080/"
        },
        "id": "e-LIHnAxIxuz",
        "outputId": "35f24e92-6043-4579-86f3-aac67ca30368"
      },
      "execution_count": 3,
      "outputs": [
        {
          "output_type": "execute_result",
          "data": {
            "text/plain": [
              "1"
            ]
          },
          "metadata": {},
          "execution_count": 3
        }
      ]
    },
    {
      "cell_type": "code",
      "source": [
        "tupla.count(3)"
      ],
      "metadata": {
        "colab": {
          "base_uri": "https://localhost:8080/"
        },
        "id": "TXNnQC41I8Bv",
        "outputId": "8e134670-91df-437e-ca16-591642c2a311"
      },
      "execution_count": 4,
      "outputs": [
        {
          "output_type": "execute_result",
          "data": {
            "text/plain": [
              "1"
            ]
          },
          "metadata": {},
          "execution_count": 4
        }
      ]
    },
    {
      "cell_type": "markdown",
      "source": [
        "#LLAVES"
      ],
      "metadata": {
        "id": "J4Ox-9L4JWQ6"
      }
    },
    {
      "cell_type": "code",
      "source": [
        "dict_1={\"numero1\":1,\n",
        "        \"numero2\":2,\n",
        "        \"numero3\":3}"
      ],
      "metadata": {
        "id": "MDaDcnUAJZx6"
      },
      "execution_count": 7,
      "outputs": []
    },
    {
      "cell_type": "markdown",
      "source": [
        "ACCEDER POR LA LLAVE"
      ],
      "metadata": {
        "id": "_mCqFvNoKVXq"
      }
    },
    {
      "cell_type": "code",
      "source": [
        "dict_1[\"numero1\"]"
      ],
      "metadata": {
        "colab": {
          "base_uri": "https://localhost:8080/"
        },
        "id": "bU-M0Nr8KUER",
        "outputId": "ec43ea3b-d8e3-4bec-b4a0-3cb6a2d44694"
      },
      "execution_count": 8,
      "outputs": [
        {
          "output_type": "execute_result",
          "data": {
            "text/plain": [
              "1"
            ]
          },
          "metadata": {},
          "execution_count": 8
        }
      ]
    },
    {
      "cell_type": "markdown",
      "source": [
        "KEYS"
      ],
      "metadata": {
        "id": "4tKLZ6RTKoxw"
      }
    },
    {
      "cell_type": "code",
      "source": [
        "dict_1.keys()"
      ],
      "metadata": {
        "colab": {
          "base_uri": "https://localhost:8080/"
        },
        "id": "xHahSBVuK1y4",
        "outputId": "30889cf6-1961-417f-b8c8-fc8d9657a562"
      },
      "execution_count": 11,
      "outputs": [
        {
          "output_type": "execute_result",
          "data": {
            "text/plain": [
              "dict_keys(['numero1', 'numero2', 'numero3'])"
            ]
          },
          "metadata": {},
          "execution_count": 11
        }
      ]
    },
    {
      "cell_type": "markdown",
      "source": [
        "ITEMS"
      ],
      "metadata": {
        "id": "n4ysvoAyK7s4"
      }
    },
    {
      "cell_type": "code",
      "source": [
        "dict_1.items()"
      ],
      "metadata": {
        "colab": {
          "base_uri": "https://localhost:8080/"
        },
        "id": "YapewRUhK864",
        "outputId": "b6852011-ced3-489e-c311-bde3d3f7cd11"
      },
      "execution_count": 12,
      "outputs": [
        {
          "output_type": "execute_result",
          "data": {
            "text/plain": [
              "dict_items([('numero1', 1), ('numero2', 2), ('numero3', 3)])"
            ]
          },
          "metadata": {},
          "execution_count": 12
        }
      ]
    },
    {
      "cell_type": "markdown",
      "source": [
        "VALUES"
      ],
      "metadata": {
        "id": "zycpKWb_LEJm"
      }
    },
    {
      "cell_type": "code",
      "source": [
        "dict_1.values()"
      ],
      "metadata": {
        "colab": {
          "base_uri": "https://localhost:8080/"
        },
        "id": "em7fFuHTLFaP",
        "outputId": "a77726e6-0486-4faf-fb04-0d646d9b82ef"
      },
      "execution_count": 13,
      "outputs": [
        {
          "output_type": "execute_result",
          "data": {
            "text/plain": [
              "dict_values([1, 2, 3])"
            ]
          },
          "metadata": {},
          "execution_count": 13
        }
      ]
    },
    {
      "cell_type": "markdown",
      "source": [
        "CREAR NUEVOS VALORES"
      ],
      "metadata": {
        "id": "TLUNOgZuLKq-"
      }
    },
    {
      "cell_type": "code",
      "source": [
        "dict_1[\"numero4\"]=4"
      ],
      "metadata": {
        "id": "55CNBo8hLMCX"
      },
      "execution_count": 14,
      "outputs": []
    },
    {
      "cell_type": "code",
      "source": [
        "dict_1"
      ],
      "metadata": {
        "colab": {
          "base_uri": "https://localhost:8080/"
        },
        "id": "X20x-xMoLTMr",
        "outputId": "f7937e7c-68eb-4ca1-c68d-6b2e96303f36"
      },
      "execution_count": 15,
      "outputs": [
        {
          "output_type": "execute_result",
          "data": {
            "text/plain": [
              "{'numero1': 1, 'numero2': 2, 'numero3': 3, 'numero4': 4}"
            ]
          },
          "metadata": {},
          "execution_count": 15
        }
      ]
    },
    {
      "cell_type": "markdown",
      "source": [
        "ELIMINAR"
      ],
      "metadata": {
        "id": "Gz5I2F5fLsL_"
      }
    },
    {
      "cell_type": "code",
      "source": [
        "dict_1.pop(\"numero1\")"
      ],
      "metadata": {
        "colab": {
          "base_uri": "https://localhost:8080/"
        },
        "id": "0YRWVIwyLtgA",
        "outputId": "83c51bc1-f0a3-46d4-bf06-4b470dd2fd78"
      },
      "execution_count": 16,
      "outputs": [
        {
          "output_type": "execute_result",
          "data": {
            "text/plain": [
              "1"
            ]
          },
          "metadata": {},
          "execution_count": 16
        }
      ]
    },
    {
      "cell_type": "code",
      "source": [
        "dict_1"
      ],
      "metadata": {
        "colab": {
          "base_uri": "https://localhost:8080/"
        },
        "id": "jwJdU_kgLzNf",
        "outputId": "38bc8e33-e6b0-4b1e-a576-738045a245f7"
      },
      "execution_count": 17,
      "outputs": [
        {
          "output_type": "execute_result",
          "data": {
            "text/plain": [
              "{'numero2': 2, 'numero3': 3, 'numero4': 4}"
            ]
          },
          "metadata": {},
          "execution_count": 17
        }
      ]
    },
    {
      "cell_type": "markdown",
      "source": [
        "#CONDICIONALES\n",
        "( sI CONDICIONES ES VERDAD: \n",
        "SE JECUTA EL CODIGO\n",
        "DE LO CONTRARIO: \n",
        "SE EJECUTA ESTE CODIGO"
      ],
      "metadata": {
        "id": "gLaKou4iL3aw"
      }
    },
    {
      "cell_type": "code",
      "source": [
        "n=9\n",
        "if n%2==0:\n",
        "  print(\"par\")\n",
        "else:\n",
        "  print(\"impar\")"
      ],
      "metadata": {
        "colab": {
          "base_uri": "https://localhost:8080/"
        },
        "id": "ohO7lFo8L_G2",
        "outputId": "3d34b5b6-0c20-445d-fc95-8e631643e6f6"
      },
      "execution_count": 20,
      "outputs": [
        {
          "output_type": "stream",
          "name": "stdout",
          "text": [
            "impar\n"
          ]
        }
      ]
    },
    {
      "cell_type": "code",
      "source": [
        "x=10\n",
        "if x>0:\n",
        "  print(\"positivo\")\n",
        "elif x<0:\n",
        "  print(\"negativo\")\n",
        "else:\n",
        "  print(\"igual a 0\")   "
      ],
      "metadata": {
        "colab": {
          "base_uri": "https://localhost:8080/"
        },
        "id": "iMZgtxaANuh-",
        "outputId": "94a10d12-d282-48f8-ddcf-6d585bd46878"
      },
      "execution_count": 25,
      "outputs": [
        {
          "output_type": "stream",
          "name": "stdout",
          "text": [
            "positivo\n"
          ]
        }
      ]
    },
    {
      "cell_type": "code",
      "source": [
        "c=8\n",
        "if c%2==0:\n",
        "  print(\"par\")\n",
        "else:\n",
        "  print(\"impar\")\n",
        "if c>0:\n",
        "  print(\"positivo\")\n",
        "elif c<0:\n",
        "  print(\"negativo\")\n",
        "else:\n",
        "  print(\"igual a 0\")   "
      ],
      "metadata": {
        "colab": {
          "base_uri": "https://localhost:8080/"
        },
        "id": "EHE4ZQJiO3jD",
        "outputId": "7ee8e4b4-544c-4b60-b789-32668f498848"
      },
      "execution_count": 27,
      "outputs": [
        {
          "output_type": "stream",
          "name": "stdout",
          "text": [
            "par\n",
            "positivo\n"
          ]
        }
      ]
    },
    {
      "cell_type": "markdown",
      "source": [
        "#BUCLES ------> FOR i  IN  LISTA \n",
        "\n",
        "por cada elemento en el conjunnto de elementos:\n",
        "Ejecuta este codigo \n",
        "\n",
        "iterable y finito \n",
        "\n",
        "bucle actividad que se repite dependiendo ed los elementos de la tupla"
      ],
      "metadata": {
        "id": "i4YhcfioP30_"
      }
    },
    {
      "cell_type": "code",
      "source": [
        "for j in tupla:\n",
        "  print(j)"
      ],
      "metadata": {
        "colab": {
          "base_uri": "https://localhost:8080/"
        },
        "id": "U0qXUMyiQGW-",
        "outputId": "62dbc43b-67ca-4ffe-ff62-e4d63410b9fe"
      },
      "execution_count": 28,
      "outputs": [
        {
          "output_type": "stream",
          "name": "stdout",
          "text": [
            "0\n",
            "4\n",
            "9\n",
            "11\n",
            "3\n"
          ]
        }
      ]
    },
    {
      "cell_type": "markdown",
      "source": [
        "CREAR BUCLE QUE RECORRA LA LISTA Y NOS DIGA SI ESIMPAR O PAR"
      ],
      "metadata": {
        "id": "ZymFGeExRW-j"
      }
    },
    {
      "cell_type": "code",
      "source": [
        "lista=[0,41,2,9,35]\n",
        "for num in lista:\n",
        "  if num%2==0:\n",
        "    print(\"par\")\n",
        "  else:\n",
        "    print(\"impar\")  \n"
      ],
      "metadata": {
        "colab": {
          "base_uri": "https://localhost:8080/"
        },
        "id": "rb8l-sSfRRML",
        "outputId": "07bd3a02-e2e8-4977-b79d-74b001607c15"
      },
      "execution_count": 29,
      "outputs": [
        {
          "output_type": "stream",
          "name": "stdout",
          "text": [
            "par\n",
            "impar\n",
            "par\n",
            "impar\n",
            "impar\n"
          ]
        }
      ]
    },
    {
      "cell_type": "code",
      "source": [
        "lista1=[3,6,9,8,10,-5,-4,0,3,40]\n",
        "for k in lista1:\n",
        "  if k>0:\n",
        "    print(\"positivo\")\n",
        "  elif k<0:\n",
        "    print(\"negativo\")\n",
        "  else:\n",
        "    print(\"igual a 0\") "
      ],
      "metadata": {
        "colab": {
          "base_uri": "https://localhost:8080/"
        },
        "id": "g56yYDBGSwU1",
        "outputId": "5fb05bc6-1043-447d-9dab-843bdf7cb8a6"
      },
      "execution_count": 31,
      "outputs": [
        {
          "output_type": "stream",
          "name": "stdout",
          "text": [
            "positivo\n",
            "positivo\n",
            "positivo\n",
            "positivo\n",
            "positivo\n",
            "negativo\n",
            "negativo\n",
            "igual a 0\n",
            "positivo\n",
            "positivo\n"
          ]
        }
      ]
    },
    {
      "cell_type": "markdown",
      "source": [
        "Bucles anidados\n",
        "un bucle dentro de otro bucle \n"
      ],
      "metadata": {
        "id": "0u_61purUWIw"
      }
    },
    {
      "cell_type": "code",
      "source": [
        "for i in range(3):\n",
        "  for j in range(3):\n",
        "    print(i,j) "
      ],
      "metadata": {
        "colab": {
          "base_uri": "https://localhost:8080/"
        },
        "id": "xEAWB6buU4KV",
        "outputId": "705d87a9-f9c7-42f2-ffbe-e8e2b4b30ef9"
      },
      "execution_count": 32,
      "outputs": [
        {
          "output_type": "stream",
          "name": "stdout",
          "text": [
            "0 0\n",
            "0 1\n",
            "0 2\n",
            "1 0\n",
            "1 1\n",
            "1 2\n",
            "2 0\n",
            "2 1\n",
            "2 2\n"
          ]
        }
      ]
    },
    {
      "cell_type": "markdown",
      "source": [
        "bucle while ( dr. strange )\n",
        "mientras la condicion se cumpla:\n",
        "se ejecuta este codigo"
      ],
      "metadata": {
        "id": "aofURYwNVxwS"
      }
    },
    {
      "cell_type": "code",
      "source": [
        "dr_strange_alive= True\n",
        "while dr_strange_alive:\n",
        "   print(\"holamundo\")"
      ],
      "metadata": {
        "id": "ypVjdXlbUyZO"
      },
      "execution_count": 33,
      "outputs": []
    },
    {
      "cell_type": "code",
      "source": [
        "contador=0\n",
        "while contador<5:\n",
        "  print(contador)\n",
        "  print(\"holamundo\")\n",
        "  contador+=1"
      ],
      "metadata": {
        "colab": {
          "base_uri": "https://localhost:8080/"
        },
        "id": "1h5SHc0MWvlg",
        "outputId": "919a345e-4c05-42f9-ca96-cfe65e4a8f70"
      },
      "execution_count": 36,
      "outputs": [
        {
          "output_type": "stream",
          "name": "stdout",
          "text": [
            "0\n",
            "holamundo\n",
            "1\n",
            "holamundo\n",
            "2\n",
            "holamundo\n",
            "3\n",
            "holamundo\n",
            "4\n",
            "holamundo\n"
          ]
        }
      ]
    },
    {
      "cell_type": "code",
      "source": [
        "contador"
      ],
      "metadata": {
        "colab": {
          "base_uri": "https://localhost:8080/"
        },
        "id": "vGa4iX8hXWRi",
        "outputId": "fc2a5b0c-b8e6-46de-c565-ae29d37e5d2b"
      },
      "execution_count": 37,
      "outputs": [
        {
          "output_type": "execute_result",
          "data": {
            "text/plain": [
              "5"
            ]
          },
          "metadata": {},
          "execution_count": 37
        }
      ]
    },
    {
      "cell_type": "markdown",
      "source": [],
      "metadata": {
        "id": "OButKHcpXyuR"
      }
    },
    {
      "cell_type": "markdown",
      "source": [
        "librerias: numpy, pandas, statsmodels,mutplotlin"
      ],
      "metadata": {
        "id": "fGDjMqMiXq-b"
      }
    },
    {
      "cell_type": "code",
      "source": [
        "import numpy as np\n",
        "import pandas as pd\n",
        "import statsmodels.api as sm\n",
        "import matplotlib.pyplot as plt"
      ],
      "metadata": {
        "id": "pxFiYDirXxoZ"
      },
      "execution_count": 38,
      "outputs": []
    },
    {
      "cell_type": "code",
      "source": [
        "x_1= np.linspace(-5,5,100)"
      ],
      "metadata": {
        "id": "nvkEyrZEYNeX"
      },
      "execution_count": 39,
      "outputs": []
    },
    {
      "cell_type": "code",
      "source": [
        "x_1"
      ],
      "metadata": {
        "id": "nDj6X2OlYTGH"
      },
      "execution_count": null,
      "outputs": []
    },
    {
      "cell_type": "code",
      "source": [
        "u=np.random.normal(0,1,100)"
      ],
      "metadata": {
        "id": "hrF2K_lOYtWX"
      },
      "execution_count": 49,
      "outputs": []
    },
    {
      "cell_type": "code",
      "source": [
        "u"
      ],
      "metadata": {
        "id": "TW6VWFdvYyA2"
      },
      "execution_count": null,
      "outputs": []
    },
    {
      "cell_type": "code",
      "source": [
        "y= 4+2*x_1+u"
      ],
      "metadata": {
        "id": "MNb9bZQsY3qm"
      },
      "execution_count": 50,
      "outputs": []
    },
    {
      "cell_type": "code",
      "source": [
        "y"
      ],
      "metadata": {
        "id": "U6vS_x59Y9JW"
      },
      "execution_count": null,
      "outputs": []
    },
    {
      "cell_type": "code",
      "source": [
        "plt.scatter(x_1,y)\n",
        "plt.show()"
      ],
      "metadata": {
        "colab": {
          "base_uri": "https://localhost:8080/",
          "height": 265
        },
        "id": "IEyCRCIpY_jV",
        "outputId": "337f38ce-4353-44ba-b9d8-97ad2ad5dfe5"
      },
      "execution_count": 51,
      "outputs": [
        {
          "output_type": "display_data",
          "data": {
            "text/plain": [
              "<Figure size 432x288 with 1 Axes>"
            ],
            "image/png": "[encoded data removed]"
          },
          "metadata": {
            "needs_background": "light"
          }
        }
      ]
    },
    {
      "cell_type": "code",
      "source": [
        "X= np.c_[np.ones(len(x_1)),x_1]"
      ],
      "metadata": {
        "id": "R4wWVeSZZzX7"
      },
      "execution_count": 53,
      "outputs": []
    },
    {
      "cell_type": "code",
      "source": [
        "X"
      ],
      "metadata": {
        "id": "C74yEYweaIoy"
      },
      "execution_count": null,
      "outputs": []
    },
    {
      "cell_type": "markdown",
      "source": [
        "(xTx)-1 x Ty"
      ],
      "metadata": {
        "id": "9AfqTnnpadNd"
      }
    },
    {
      "cell_type": "code",
      "source": [
        "betas=np.linalg.inv(X.T.dot(X)).dot(X.T.dot(y))"
      ],
      "metadata": {
        "id": "mCPpZMZgaNjK"
      },
      "execution_count": 55,
      "outputs": []
    },
    {
      "cell_type": "code",
      "source": [
        "betas"
      ],
      "metadata": {
        "colab": {
          "base_uri": "https://localhost:8080/"
        },
        "id": "gRXXWbH7a0by",
        "outputId": "b214312f-c552-4ed6-9630-109d790a93e1"
      },
      "execution_count": 56,
      "outputs": [
        {
          "output_type": "execute_result",
          "data": {
            "text/plain": [
              "array([4.03061656, 1.96928804])"
            ]
          },
          "metadata": {},
          "execution_count": 56
        }
      ]
    },
    {
      "cell_type": "markdown",
      "source": [
        "VARIABLE CON GORRITO "
      ],
      "metadata": {
        "id": "Ro1qSLczbGDD"
      }
    },
    {
      "cell_type": "code",
      "source": [
        "y_est=betas[0]+betas[1]*x_1"
      ],
      "metadata": {
        "id": "PA0q8Zq6bHwT"
      },
      "execution_count": 57,
      "outputs": []
    },
    {
      "cell_type": "code",
      "source": [
        "y_est"
      ],
      "metadata": {
        "colab": {
          "base_uri": "https://localhost:8080/"
        },
        "id": "LTYTTXDnbXlJ",
        "outputId": "44cf5c84-be19-4c09-d4f6-c2be80bc9b62"
      },
      "execution_count": 58,
      "outputs": [
        {
          "output_type": "execute_result",
          "data": {
            "text/plain": [
              "array([-5.81582366, -5.61690567, -5.41798769, -5.2190697 , -5.02015172,\n",
              "       -4.82123373, -4.62231575, -4.42339777, -4.22447978, -4.0255618 ,\n",
              "       -3.82664381, -3.62772583, -3.42880785, -3.22988986, -3.03097188,\n",
              "       -2.83205389, -2.63313591, -2.43421793, -2.23529994, -2.03638196,\n",
              "       -1.83746397, -1.63854599, -1.439628  , -1.24071002, -1.04179204,\n",
              "       -0.84287405, -0.64395607, -0.44503808, -0.2461201 , -0.04720212,\n",
              "        0.15171587,  0.35063385,  0.54955184,  0.74846982,  0.94738781,\n",
              "        1.14630579,  1.34522377,  1.54414176,  1.74305974,  1.94197773,\n",
              "        2.14089571,  2.33981369,  2.53873168,  2.73764966,  2.93656765,\n",
              "        3.13548563,  3.33440362,  3.5333216 ,  3.73223958,  3.93115757,\n",
              "        4.13007555,  4.32899354,  4.52791152,  4.7268295 ,  4.92574749,\n",
              "        5.12466547,  5.32358346,  5.52250144,  5.72141943,  5.92033741,\n",
              "        6.11925539,  6.31817338,  6.51709136,  6.71600935,  6.91492733,\n",
              "        7.11384531,  7.3127633 ,  7.51168128,  7.71059927,  7.90951725,\n",
              "        8.10843524,  8.30735322,  8.5062712 ,  8.70518919,  8.90410717,\n",
              "        9.10302516,  9.30194314,  9.50086112,  9.69977911,  9.89869709,\n",
              "       10.09761508, 10.29653306, 10.49545104, 10.69436903, 10.89328701,\n",
              "       11.092205  , 11.29112298, 11.49004097, 11.68895895, 11.88787693,\n",
              "       12.08679492, 12.2857129 , 12.48463089, 12.68354887, 12.88246685,\n",
              "       13.08138484, 13.28030282, 13.47922081, 13.67813879, 13.87705678])"
            ]
          },
          "metadata": {},
          "execution_count": 58
        }
      ]
    },
    {
      "cell_type": "code",
      "source": [
        "fig,ax=plt.subplots(1,1,figsize=(10,4))\n",
        "ax.plot(x_1,y_est,color=\"r\",label=\"model\")\n",
        "ax.scatter(x_1,y,color=\"k\",label=\"observations\")\n",
        "ax.spines[\"top\"].set_visible(False)\n",
        "ax.spines[\"right\"].set_visible(False)\n",
        "ax.set_title(\"MCO\")\n",
        "ax.legend()\n",
        "plt.show()\n"
      ],
      "metadata": {
        "colab": {
          "base_uri": "https://localhost:8080/",
          "height": 281
        },
        "id": "3Vw_OXVwbl25",
        "outputId": "74bf8d72-cfc8-4d48-ff4d-ce91109bb1e9"
      },
      "execution_count": 61,
      "outputs": [
        {
          "output_type": "display_data",
          "data": {
            "text/plain": [
              "<Figure size 720x288 with 1 Axes>"
            ],
            "image/png": "[encoded data removed]"
          },
          "metadata": {
            "needs_background": "light"
          }
        }
      ]
    }
  ]
}